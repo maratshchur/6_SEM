{
 "cells": [
  {
   "cell_type": "markdown",
   "id": "f604b042-d07f-46ec-9e47-d86282dcd343",
   "metadata": {},
   "source": [
    "# Анализ данных о ВВП стран мира\n",
    "В этом проекте мы проведем статистический анализ данных о ВВП стран мира, используя библиотеки Python.\n",
    "\n",
    "## 1. Получение данных\n",
    "Загрузим данные о ВВП стран мира с помощью библиотеки pandas."
   ]
  },
  {
   "cell_type": "code",
   "execution_count": 50,
   "id": "a4857e7c-a08b-4c0e-bd94-b41d865664bc",
   "metadata": {},
   "outputs": [
    {
     "data": {
      "text/plain": [
       "213"
      ]
     },
     "execution_count": 50,
     "metadata": {},
     "output_type": "execute_result"
    }
   ],
   "source": [
    "import pandas as pd\n",
    "\n",
    "# Загружаем данные о ВВП\n",
    "url = \"https://raw.githubusercontent.com/datasets/gdp/master/data/gdp.csv\"\n",
    "df = pd.read_csv(url)\n",
    "\n",
    "# Оставляем данные за 2020 год и убираем NaN\n",
    "df_latest = df[df['Year'] == 2020].dropna()\n",
    "\n",
    "# Страны, которые нужно исключить\n",
    "countries_to_exclude = ['AFE', 'AFW', 'ARB', 'CEB', 'EAR', 'EAS', 'TEA', 'EAP', 'EMU', 'ECS', 'TEC', 'ECA', 'EUU', 'FCS', 'HPC', 'HIC', 'IBD','IBT', 'IDB', 'IDX', 'IDA', 'LTE', 'LCN', 'LAC', 'TLA', 'LDC', 'LMY', 'LIC', 'LMC', 'MEA', 'TMN', 'MNA', 'MIC', 'OED', 'OSS', 'PRE', 'PST', 'SST', 'SAS', 'TSS', 'SSA', 'UMC', 'WLD', 'PSE']  \n",
    "\n",
    "# Фильтруем DataFrame, исключая указанные страны\n",
    "df_filtered = df_latest[~df_latest['Country Code'].isin(countries_to_exclude)]\n",
    "\n",
    "# Проверяем длину оставшихся данных\n",
    "gdp_values = df_filtered['Value'].values\n",
    "len(gdp_values)"
   ]
  },
  {
   "cell_type": "markdown",
   "id": "305b3408-8f30-44bf-88a0-03ff5d4b871e",
   "metadata": {},
   "source": [
    "### Случайная выборка\n",
    "Берем случайную выборку из 40+ значений ВВП для дальнейшего анализа."
   ]
  },
  {
   "cell_type": "code",
   "execution_count": 51,
   "id": "7ed625fa-65f5-41d7-a347-bceb68b31181",
   "metadata": {
    "collapsed": true,
    "jupyter": {
     "outputs_hidden": true,
     "source_hidden": true
    }
   },
   "outputs": [
    {
     "name": "stdout",
     "output_type": "stream",
     "text": [
      "[2.55890630e+09 7.20338498e+11 2.71886077e+11 5.00461898e+11\n",
      " 3.37456164e+11 6.40587021e+09 3.73979443e+11 2.16299532e+10\n",
      " 3.08288465e+09 8.58000000e+08 8.69111111e+08 3.49488383e+11\n",
      " 4.32198898e+11 7.00430955e+10 1.27812887e+12 5.33564846e+10\n",
      " 6.60687378e+10 5.26021513e+11 1.14686881e+10 2.70345938e+10\n",
      " 1.71082366e+11 9.09421044e+08 4.18900000e+09 2.08075713e+10\n",
      " 3.00425610e+11 8.27046861e+09 2.64968026e+09 1.49602911e+10\n",
      " 9.20414038e+09 4.77975655e+09 5.04214815e+08 2.12697531e+11\n",
      " 1.44411363e+11 4.13267669e+11 1.53145772e+10 1.56617722e+11\n",
      " 1.23642810e+09 3.54321781e+10 4.37003831e+10 3.44943150e+11\n",
      " 1.64431283e+12 5.17465943e+07 9.89381601e+09 1.41778358e+10\n",
      " 1.01743876e+10 3.17612634e+09 6.73964542e+09 1.38124218e+10\n",
      " 1.33129814e+10 9.09793467e+11]\n"
     ]
    }
   ],
   "source": [
    "np.random.seed(42)\n",
    "sample_size = max(50, len(gdp_values) // 5)  # Берем минимум 50 значений\n",
    "sample = np.random.choice(gdp_values, sample_size, replace=False)\n",
    "\n",
    "# Выведем первые 10 значений выборки\n",
    "print(sample[:50])"
   ]
  },
  {
   "cell_type": "markdown",
   "id": "b99b67c4-9073-4f16-ab1d-73dfd33ce09a",
   "metadata": {},
   "source": [
    "## 2. Проведение статистического анализа\n",
    "Вычислим основные статистические показатели: моду, медиану, среднее, дисперсию и коэффициент вариации."
   ]
  },
  {
   "cell_type": "code",
   "execution_count": 52,
   "id": "14a94b4d-87e7-4ea6-92aa-a8a01b2d15ee",
   "metadata": {},
   "outputs": [
    {
     "name": "stdout",
     "output_type": "stream",
     "text": [
      "Мода: 51746594.31485426\n",
      "Медиана: 21218762254.185143\n",
      "Среднее значение: 191683696985.14233\n",
      "Дисперсия: 1.1283944842306012e+23\n",
      "Коэффициент вариации: 175.24%\n"
     ]
    }
   ],
   "source": [
    "# Мода\n",
    "mode_value = stats.mode(sample)[0]\n",
    "# Медиана\n",
    "median_value = np.median(sample)\n",
    "# Среднее\n",
    "mean_value = np.mean(sample)\n",
    "# Дисперсия (выборочная)\n",
    "variance_value = np.var(sample, ddof=1)\n",
    "# Коэффициент вариации\n",
    "cv_value = (np.std(sample, ddof=1) / mean_value) * 100\n",
    "\n",
    "print(f\"Мода: {mode_value}\")\n",
    "print(f\"Медиана: {median_value}\")\n",
    "print(f\"Среднее значение: {mean_value}\")\n",
    "print(f\"Дисперсия: {variance_value}\")\n",
    "print(f\"Коэффициент вариации: {cv_value:.2f}%\")"
   ]
  },
  {
   "cell_type": "markdown",
   "id": "1eb64228-2dd4-4391-86e3-2f2eb026b66d",
   "metadata": {},
   "source": [
    "### Оценка однородности выборки\n",
    "Оценим однородность выборки с помощью коэффициента вариации."
   ]
  },
  {
   "cell_type": "code",
   "execution_count": 18,
   "id": "6f5b5e74-a1e7-4236-9eee-a49ee6433c10",
   "metadata": {},
   "outputs": [
    {
     "name": "stdout",
     "output_type": "stream",
     "text": [
      "Выборка неоднородна\n"
     ]
    }
   ],
   "source": [
    "if cv_value <= 33:\n",
    "    print(\"Выборка однородна\")\n",
    "else:\n",
    "    print(\"Выборка неоднородна\")"
   ]
  },
  {
   "cell_type": "markdown",
   "id": "b56450c1-88f0-4326-ae3f-8df01d03b87a",
   "metadata": {},
   "source": [
    "## 3. Удаление выбросов\n",
    "Находим выбросы с помощью метода межквартильного размаха (IQR)."
   ]
  },
  {
   "cell_type": "code",
   "execution_count": 53,
   "id": "e1f28f3d-961f-4126-8fa5-9baff230903e",
   "metadata": {},
   "outputs": [
    {
     "name": "stdout",
     "output_type": "stream",
     "text": [
      "Размер выборки после удаления выбросов: 47\n"
     ]
    }
   ],
   "source": [
    "Q1 = np.percentile(sample, 25)\n",
    "Q3 = np.percentile(sample, 75)\n",
    "IQR = Q3 - Q1\n",
    "\n",
    "lower_bound = Q1 - 1.5 * IQR\n",
    "upper_bound = Q3 + 1.5 * IQR\n",
    "\n",
    "# Убираем выбросы\n",
    "filtered_sample = sample[(sample >= lower_bound) & (sample <= upper_bound)]\n",
    "\n",
    "print(f\"Размер выборки после удаления выбросов: {len(filtered_sample)}\")"
   ]
  },
  {
   "cell_type": "markdown",
   "id": "51600812-0113-4437-98aa-823e947bab42",
   "metadata": {},
   "source": [
    "## 4. Разбиение выборки на интервалы и построение гистограммы\n",
    "Количество интервалов рассчитываем по формуле s = 1 + log2(n)."
   ]
  },
  {
   "cell_type": "code",
   "execution_count": 55,
   "id": "36d03f88-e47c-4ef0-8727-571d75cb101e",
   "metadata": {},
   "outputs": [
    {
     "name": "stdout",
     "output_type": "stream",
     "text": [
      "Оптимальное количество интервалов (s1): 6\n",
      "Оптимальное количество интервалов (s2): 6\n"
     ]
    },
    {
     "data": {
      "image/png": "[encoded data removed]",
      "text/plain": [
       "<Figure size 1000x500 with 1 Axes>"
      ]
     },
     "metadata": {},
     "output_type": "display_data"
    }
   ],
   "source": [
    "# 4. Разбиение на интервалы\n",
    "n = len(filtered_sample)\n",
    "s1 = int(1 + np.log2(n))\n",
    "s2 = int(1 + 3.322 * np.log10(n))\n",
    "\n",
    "print(f\"Оптимальное количество интервалов (s1): {s1}\")\n",
    "print(f\"Оптимальное количество интервалов (s2): {s2}\")\n",
    "\n",
    "\n",
    "# Построим гистограмму и полигон\n",
    "plt.figure(figsize=(10, 5))\n",
    "\n",
    "# Гистограмма\n",
    "sns.histplot(filtered_sample, bins=s1, kde=True, stat='density', color='skyblue', edgecolor='black')\n",
    "\n",
    "# Получаем данные для полигона\n",
    "hist_values, bin_edges = np.histogram(filtered_sample, bins=s1, density=True)\n",
    "bin_centers = 0.5 * (bin_edges[1:] + bin_edges[:-1])\n",
    "\n",
    "# Полигон\n",
    "plt.plot(bin_centers, hist_values, color='red', marker='o', linestyle='-', linewidth=2, markersize=5)\n",
    "\n",
    "plt.title(\"Гистограмма и полигон распределения ВВП\")\n",
    "plt.xlabel(\"ВВП\")\n",
    "plt.ylabel(\"Плотность\")\n",
    "plt.grid()\n",
    "plt.show()"
   ]
  },
  {
   "cell_type": "markdown",
   "id": "d353bf3c-da7c-4c2a-bb25-f9c7465bc38d",
   "metadata": {},
   "source": [
    "## 5. Числовые характеристики\n",
    "Пересчитаем среднее, дисперсию и стандартное отклонение для отфильтрованной выборки."
   ]
  },
  {
   "cell_type": "code",
   "execution_count": 56,
   "id": "39f7ef39-7ec2-4302-be60-57e9b45aadb7",
   "metadata": {
    "collapsed": true,
    "jupyter": {
     "outputs_hidden": true,
     "source_hidden": true
    }
   },
   "outputs": [
    {
     "name": "stdout",
     "output_type": "stream",
     "text": [
      "Среднее: 122381908144.97829\n",
      "Дисперсия: 3.254843772695606e+22\n",
      "Стандартное отклонение: 180411855838.12408\n"
     ]
    }
   ],
   "source": [
    "mean_filtered = np.mean(filtered_sample)\n",
    "variance_filtered = np.var(filtered_sample, ddof=1)\n",
    "std_dev_filtered = np.std(filtered_sample, ddof=1)\n",
    "\n",
    "print(f\"Среднее: {mean_filtered}\")\n",
    "print(f\"Дисперсия: {variance_filtered}\")\n",
    "print(f\"Стандартное отклонение: {std_dev_filtered}\")"
   ]
  },
  {
   "cell_type": "markdown",
   "id": "13ec9151-4874-4401-8e73-670d7b0084ef",
   "metadata": {},
   "source": [
    "## 6. Групповые дисперсии\n",
    "Рассчитаем внутригрупповую и межгрупповую дисперсию."
   ]
  },
  {
   "cell_type": "code",
   "execution_count": 58,
   "id": "15518641-f173-4c59-afda-515bbf601da1",
   "metadata": {},
   "outputs": [
    {
     "name": "stdout",
     "output_type": "stream",
     "text": [
      "Общая дисперсия: 32548437726956061982720.00\n",
      "Внутригрупповая дисперсия: 3816386803081257943040.00\n",
      "Межгрупповая дисперсия: 36840434874799536209920.00\n",
      "Сумма внутригрупповой и межгрупповой: 40656821677880797822976.00\n",
      "Погрешность: 8108383950924735840256.00000\n"
     ]
    }
   ],
   "source": [
    "# 5. Дисперсионный анализ\n",
    "groups = np.array_split(np.sort(filtered_sample), s1)\n",
    "group_means = [np.mean(g) for g in groups]\n",
    "group_variances = [np.var(g, ddof=1) for g in groups]\n",
    "\n",
    "S_within = np.mean(group_variances)  # Внутригрупповая дисперсия\n",
    "S_between = np.var(group_means, ddof=1)  # Межгрупповая дисперсия\n",
    "S_total = np.var(filtered_sample, ddof=1)  # Общая дисперсия\n",
    "\n",
    "print(f\"Общая дисперсия: {S_total:.2f}\")\n",
    "print(f\"Внутригрупповая дисперсия: {S_within:.2f}\")\n",
    "print(f\"Межгрупповая дисперсия: {S_between:.2f}\")\n",
    "\n",
    "# Проверка сложения дисперсий\n",
    "print(f\"Сумма внутригрупповой и межгрупповой: {S_within + S_between:.2f}\")\n",
    "print(f\"Погрешность: {abs(S_total - (S_within + S_between)):.5f}\")\n"
   ]
  },
  {
   "cell_type": "markdown",
   "id": "25be2376-743e-4f70-b1ba-6cf51a2ebafc",
   "metadata": {},
   "source": [
    "## 7. Проверка гипотезы о распределении\n",
    "Проверим гипотезу о нормальном распределении с помощью критериев Колмогорова-Смирнова и Пирсона."
   ]
  },
  {
   "cell_type": "code",
   "execution_count": 63,
   "id": "aacec035-1d9b-4189-afe9-ced1ba92c952",
   "metadata": {},
   "outputs": [
    {
     "name": "stdout",
     "output_type": "stream",
     "text": [
      "Критерий Колмогорова-Смирнова: Statistic=0.3222, p-value=0.0001\n",
      "Критерий Пирсона: χ²=90.7447, p-value=0.0000\n",
      "Выборка не соответствует нормальному распределению.\n"
     ]
    }
   ],
   "source": [
    "# 6. Проверка соответствия закону распределения\n",
    "# Критерий Колмогорова-Смирнова\n",
    "ks_statistic, ks_p_value = stats.kstest(filtered_sample, 'norm', args=(mean_value, np.sqrt(variance_value)))\n",
    "print(f\"Критерий Колмогорова-Смирнова: Statistic={ks_statistic:.4f}, p-value={ks_p_value:.4f}\")\n",
    "\n",
    "# Критерий Пирсона (χ²)\n",
    "hist, bin_edges = np.histogram(filtered_sample, bins=s1)\n",
    "expected_freq = len(filtered_sample) / s1\n",
    "chi2_stat, chi2_p_value = stats.chisquare(hist, [expected_freq] * len(hist))\n",
    "\n",
    "print(f\"Критерий Пирсона: χ²={chi2_stat:.4f}, p-value={chi2_p_value:.4f}\")\n",
    "\n",
    "# Вывод о нормальности\n",
    "if ks_p_value > 0.05 and chi2_p_value > 0.05:\n",
    "    print(\"Выборка соответствует нормальному распределению.\")\n",
    "else:\n",
    "    print(\"Выборка не соответствует нормальному распределению.\")"
   ]
  },
  {
   "cell_type": "code",
   "execution_count": null,
   "id": "598ea97b-f46a-47c7-b64a-7ad07ab584a2",
   "metadata": {},
   "outputs": [],
   "source": []
  },
  {
   "cell_type": "code",
   "execution_count": null,
   "id": "35d530ff-ba87-4fa3-b79e-66ca9ef2d2ce",
   "metadata": {},
   "outputs": [],
   "source": []
  }
 ],
 "metadata": {
  "kernelspec": {
   "display_name": "Python 3 (ipykernel)",
   "language": "python",
   "name": "python3"
  },
  "language_info": {
   "codemirror_mode": {
    "name": "ipython",
    "version": 3
   },
   "file_extension": ".py",
   "mimetype": "text/x-python",
   "name": "python",
   "nbconvert_exporter": "python",
   "pygments_lexer": "ipython3",
   "version": "3.10.5"
  }
 },
 "nbformat": 4,
 "nbformat_minor": 5
}
