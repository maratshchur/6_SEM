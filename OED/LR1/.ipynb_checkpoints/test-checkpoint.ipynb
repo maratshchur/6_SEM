{
 "cells": [
  {
   "cell_type": "code",
   "execution_count": 3,
   "id": "54f904b4-2497-4228-b55b-3965aa68c293",
   "metadata": {},
   "outputs": [
    {
     "name": "stdout",
     "output_type": "stream",
     "text": [
      "    Unnamed: 0 Unnamed: 1  Unnamed: 2     Unnamed: 3    Unnamed: 4 Unnamed: 5\n",
      "0          NaN        NaN         NaN            NaN  (millions of        NaN\n",
      "1          NaN    Ranking         NaN        Economy   US dollars)        NaN\n",
      "2          NaN        NaN         NaN            NaN           NaN        NaN\n",
      "3          USA          1         NaN  United States   25,462,700         NaN\n",
      "4          CHN          2         NaN          China   17,963,171         NaN\n",
      "..         ...        ...         ...            ...           ...        ...\n",
      "323        NaN        NaN         NaN            NaN           NaN        NaN\n",
      "324        NaN        NaN         NaN            NaN           NaN        NaN\n",
      "325        NaN        NaN         NaN            NaN           NaN        NaN\n",
      "326        NaN        NaN         NaN            NaN           NaN        NaN\n",
      "327        NaN        NaN         NaN            NaN           NaN        NaN\n",
      "\n",
      "[328 rows x 6 columns]\n"
     ]
    },
    {
     "ename": "KeyError",
     "evalue": "\"None of [Index(['Country Name', '2022'], dtype='object')] are in the [columns]\"",
     "output_type": "error",
     "traceback": [
      "\u001b[0;31m---------------------------------------------------------------------------\u001b[0m",
      "\u001b[0;31mKeyError\u001b[0m                                  Traceback (most recent call last)",
      "Cell \u001b[0;32mIn[3], line 13\u001b[0m\n\u001b[1;32m     11\u001b[0m \u001b[38;5;28mprint\u001b[39m(df)\n\u001b[1;32m     12\u001b[0m \u001b[38;5;66;03m# Выбираем данные за 2022 год и удаляем пропущенные значения\u001b[39;00m\n\u001b[0;32m---> 13\u001b[0m df \u001b[38;5;241m=\u001b[39m \u001b[43mdf\u001b[49m\u001b[43m[\u001b[49m\u001b[43m[\u001b[49m\u001b[38;5;124;43m'\u001b[39;49m\u001b[38;5;124;43mCountry Name\u001b[39;49m\u001b[38;5;124;43m'\u001b[39;49m\u001b[43m,\u001b[49m\u001b[43m \u001b[49m\u001b[38;5;124;43m'\u001b[39;49m\u001b[38;5;124;43m2022\u001b[39;49m\u001b[38;5;124;43m'\u001b[39;49m\u001b[43m]\u001b[49m\u001b[43m]\u001b[49m\u001b[38;5;241m.\u001b[39mdropna()\n\u001b[1;32m     14\u001b[0m df\u001b[38;5;241m.\u001b[39mcolumns \u001b[38;5;241m=\u001b[39m [\u001b[38;5;124m'\u001b[39m\u001b[38;5;124mCountry\u001b[39m\u001b[38;5;124m'\u001b[39m, \u001b[38;5;124m'\u001b[39m\u001b[38;5;124mGDP_per_capita\u001b[39m\u001b[38;5;124m'\u001b[39m]\n\u001b[1;32m     15\u001b[0m data \u001b[38;5;241m=\u001b[39m df[\u001b[38;5;124m'\u001b[39m\u001b[38;5;124mGDP_per_capita\u001b[39m\u001b[38;5;124m'\u001b[39m]\u001b[38;5;241m.\u001b[39mvalues\n",
      "File \u001b[0;32m~/.pyenv/versions/3.10.5/lib/python3.10/site-packages/pandas/core/frame.py:4108\u001b[0m, in \u001b[0;36mDataFrame.__getitem__\u001b[0;34m(self, key)\u001b[0m\n\u001b[1;32m   4106\u001b[0m     \u001b[38;5;28;01mif\u001b[39;00m is_iterator(key):\n\u001b[1;32m   4107\u001b[0m         key \u001b[38;5;241m=\u001b[39m \u001b[38;5;28mlist\u001b[39m(key)\n\u001b[0;32m-> 4108\u001b[0m     indexer \u001b[38;5;241m=\u001b[39m \u001b[38;5;28;43mself\u001b[39;49m\u001b[38;5;241;43m.\u001b[39;49m\u001b[43mcolumns\u001b[49m\u001b[38;5;241;43m.\u001b[39;49m\u001b[43m_get_indexer_strict\u001b[49m\u001b[43m(\u001b[49m\u001b[43mkey\u001b[49m\u001b[43m,\u001b[49m\u001b[43m \u001b[49m\u001b[38;5;124;43m\"\u001b[39;49m\u001b[38;5;124;43mcolumns\u001b[39;49m\u001b[38;5;124;43m\"\u001b[39;49m\u001b[43m)\u001b[49m[\u001b[38;5;241m1\u001b[39m]\n\u001b[1;32m   4110\u001b[0m \u001b[38;5;66;03m# take() does not accept boolean indexers\u001b[39;00m\n\u001b[1;32m   4111\u001b[0m \u001b[38;5;28;01mif\u001b[39;00m \u001b[38;5;28mgetattr\u001b[39m(indexer, \u001b[38;5;124m\"\u001b[39m\u001b[38;5;124mdtype\u001b[39m\u001b[38;5;124m\"\u001b[39m, \u001b[38;5;28;01mNone\u001b[39;00m) \u001b[38;5;241m==\u001b[39m \u001b[38;5;28mbool\u001b[39m:\n",
      "File \u001b[0;32m~/.pyenv/versions/3.10.5/lib/python3.10/site-packages/pandas/core/indexes/base.py:6200\u001b[0m, in \u001b[0;36mIndex._get_indexer_strict\u001b[0;34m(self, key, axis_name)\u001b[0m\n\u001b[1;32m   6197\u001b[0m \u001b[38;5;28;01melse\u001b[39;00m:\n\u001b[1;32m   6198\u001b[0m     keyarr, indexer, new_indexer \u001b[38;5;241m=\u001b[39m \u001b[38;5;28mself\u001b[39m\u001b[38;5;241m.\u001b[39m_reindex_non_unique(keyarr)\n\u001b[0;32m-> 6200\u001b[0m \u001b[38;5;28;43mself\u001b[39;49m\u001b[38;5;241;43m.\u001b[39;49m\u001b[43m_raise_if_missing\u001b[49m\u001b[43m(\u001b[49m\u001b[43mkeyarr\u001b[49m\u001b[43m,\u001b[49m\u001b[43m \u001b[49m\u001b[43mindexer\u001b[49m\u001b[43m,\u001b[49m\u001b[43m \u001b[49m\u001b[43maxis_name\u001b[49m\u001b[43m)\u001b[49m\n\u001b[1;32m   6202\u001b[0m keyarr \u001b[38;5;241m=\u001b[39m \u001b[38;5;28mself\u001b[39m\u001b[38;5;241m.\u001b[39mtake(indexer)\n\u001b[1;32m   6203\u001b[0m \u001b[38;5;28;01mif\u001b[39;00m \u001b[38;5;28misinstance\u001b[39m(key, Index):\n\u001b[1;32m   6204\u001b[0m     \u001b[38;5;66;03m# GH 42790 - Preserve name from an Index\u001b[39;00m\n",
      "File \u001b[0;32m~/.pyenv/versions/3.10.5/lib/python3.10/site-packages/pandas/core/indexes/base.py:6249\u001b[0m, in \u001b[0;36mIndex._raise_if_missing\u001b[0;34m(self, key, indexer, axis_name)\u001b[0m\n\u001b[1;32m   6247\u001b[0m \u001b[38;5;28;01mif\u001b[39;00m nmissing:\n\u001b[1;32m   6248\u001b[0m     \u001b[38;5;28;01mif\u001b[39;00m nmissing \u001b[38;5;241m==\u001b[39m \u001b[38;5;28mlen\u001b[39m(indexer):\n\u001b[0;32m-> 6249\u001b[0m         \u001b[38;5;28;01mraise\u001b[39;00m \u001b[38;5;167;01mKeyError\u001b[39;00m(\u001b[38;5;124mf\u001b[39m\u001b[38;5;124m\"\u001b[39m\u001b[38;5;124mNone of [\u001b[39m\u001b[38;5;132;01m{\u001b[39;00mkey\u001b[38;5;132;01m}\u001b[39;00m\u001b[38;5;124m] are in the [\u001b[39m\u001b[38;5;132;01m{\u001b[39;00maxis_name\u001b[38;5;132;01m}\u001b[39;00m\u001b[38;5;124m]\u001b[39m\u001b[38;5;124m\"\u001b[39m)\n\u001b[1;32m   6251\u001b[0m     not_found \u001b[38;5;241m=\u001b[39m \u001b[38;5;28mlist\u001b[39m(ensure_index(key)[missing_mask\u001b[38;5;241m.\u001b[39mnonzero()[\u001b[38;5;241m0\u001b[39m]]\u001b[38;5;241m.\u001b[39munique())\n\u001b[1;32m   6252\u001b[0m     \u001b[38;5;28;01mraise\u001b[39;00m \u001b[38;5;167;01mKeyError\u001b[39;00m(\u001b[38;5;124mf\u001b[39m\u001b[38;5;124m\"\u001b[39m\u001b[38;5;132;01m{\u001b[39;00mnot_found\u001b[38;5;132;01m}\u001b[39;00m\u001b[38;5;124m not in index\u001b[39m\u001b[38;5;124m\"\u001b[39m)\n",
      "\u001b[0;31mKeyError\u001b[0m: \"None of [Index(['Country Name', '2022'], dtype='object')] are in the [columns]\""
     ]
    }
   ],
   "source": [
    "import numpy as np\n",
    "import pandas as pd\n",
    "import matplotlib.pyplot as plt\n",
    "import seaborn as sns\n",
    "import scipy.stats as stats\n",
    "\n",
    "# 1. Загрузка данных (GDP per capita по странам за 2022 год)\n",
    "url = \"https://databank.worldbank.org/data/download/GDP.csv\"\n",
    "df = pd.read_csv(url, skiprows=1)\n",
    "\n",
    "print(df)\n",
    "# Выбираем данные за 2022 год и удаляем пропущенные значения\n",
    "df = df[['Country Name', '2022']].dropna()\n",
    "df.columns = ['Country', 'GDP_per_capita']\n",
    "data = df['GDP_per_capita'].values\n",
    "\n",
    "# 2. Основные статистические характеристики\n",
    "mean = np.mean(data)\n",
    "median = np.median(data)\n",
    "mode = stats.mode(data, keepdims=True)[0][0]\n",
    "variance = np.var(data, ddof=1)\n",
    "std_dev = np.sqrt(variance)\n",
    "coef_var = (std_dev / mean) * 100  # Коэффициент вариации в %\n",
    "\n",
    "print(f\"Среднее: {mean:.2f}\")\n",
    "print(f\"Медиана: {median:.2f}\")\n",
    "print(f\"Мода: {mode:.2f}\")\n",
    "print(f\"Дисперсия: {variance:.2f}\")\n",
    "print(f\"Стандартное отклонение: {std_dev:.2f}\")\n",
    "print(f\"Коэффициент вариации: {coef_var:.2f}%\")\n",
    "\n"
   ]
  },
  {
   "cell_type": "code",
   "execution_count": null,
   "id": "77480959-17f2-4479-af20-5dca4545174f",
   "metadata": {},
   "outputs": [],
   "source": []
  },
  {
   "cell_type": "code",
   "execution_count": null,
   "id": "1badac21-001e-4f48-bc2d-fc396ce8bb25",
   "metadata": {},
   "outputs": [],
   "source": [
    "# Гистограмма и полигон\n",
    "plt.figure(figsize=(12, 6))\n",
    "sns.histplot(filtered_data, bins=s1, kde=True, color='blue', alpha=0.6)\n",
    "plt.title(\"Гистограмма распределения GDP на душу населения\")\n",
    "plt.xlabel(\"GDP per capita\")\n",
    "plt.ylabel(\"Частота\")\n",
    "plt.show()\n",
    "\n"
   ]
  },
  {
   "cell_type": "code",
   "execution_count": null,
   "id": "d382c138-763a-4de9-bc31-e3371ebd3452",
   "metadata": {},
   "outputs": [],
   "source": [
    "# 5. Дисперсионный анализ\n",
    "groups = np.array_split(np.sort(filtered_data), s1)\n",
    "group_means = [np.mean(g) for g in groups]\n",
    "group_variances = [np.var(g, ddof=1) for g in groups]\n",
    "\n",
    "S_within = np.mean(group_variances)  # Внутригрупповая дисперсия\n",
    "S_between = np.var(group_means, ddof=1)  # Межгрупповая дисперсия\n",
    "S_total = np.var(filtered_data, ddof=1)  # Общая дисперсия\n",
    "\n",
    "print(f\"Общая дисперсия: {S_total:.2f}\")\n",
    "print(f\"Внутригрупповая дисперсия: {S_within:.2f}\")\n",
    "print(f\"Межгрупповая дисперсия: {S_between:.2f}\")\n",
    "\n",
    "# Проверка сложения дисперсий\n",
    "print(f\"Сумма внутригрупповой и межгрупповой: {S_within + S_between:.2f}\")\n",
    "print(f\"Погрешность: {abs(S_total - (S_within + S_between)):.5f}\")\n",
    "\n"
   ]
  },
  {
   "cell_type": "code",
   "execution_count": null,
   "id": "b2b0522c-b365-4a09-af38-c9936f824f79",
   "metadata": {},
   "outputs": [],
   "source": [
    "# 6. Проверка соответствия закону распределения\n",
    "# Критерий Колмогорова-Смирнова\n",
    "ks_statistic, ks_p_value = stats.kstest(filtered_data, 'norm', args=(mean, std_dev))\n",
    "print(f\"Критерий Колмогорова-Смирнова: Statistic={ks_statistic:.4f}, p-value={ks_p_value:.4f}\")\n",
    "\n",
    "# Критерий Пирсона (χ²)\n",
    "hist, bin_edges = np.histogram(filtered_data, bins=s1)\n",
    "expected_freq = len(filtered_data) / s1\n",
    "chi2_stat, chi2_p_value = stats.chisquare(hist, [expected_freq] * len(hist))\n",
    "\n",
    "print(f\"Критерий Пирсона: χ²={chi2_stat:.4f}, p-value={chi2_p_value:.4f}\")\n",
    "\n",
    "# Вывод о нормальности\n",
    "if ks_p_value > 0.05 and chi2_p_value > 0.05:\n",
    "    print(\"Выборка соответствует нормальному распределению.\")\n",
    "else:\n",
    "    print(\"Выборка не соответствует нормальному распределению.\")"
   ]
  }
 ],
 "metadata": {
  "kernelspec": {
   "display_name": "Python 3 (ipykernel)",
   "language": "python",
   "name": "python3"
  },
  "language_info": {
   "codemirror_mode": {
    "name": "ipython",
    "version": 3
   },
   "file_extension": ".py",
   "mimetype": "text/x-python",
   "name": "python",
   "nbconvert_exporter": "python",
   "pygments_lexer": "ipython3",
   "version": "3.10.5"
  }
 },
 "nbformat": 4,
 "nbformat_minor": 5
}
